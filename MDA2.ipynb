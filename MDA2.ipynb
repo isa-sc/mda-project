{
 "cells": [
  {
   "cell_type": "code",
   "execution_count": 1,
   "id": "eaaf8be8",
   "metadata": {},
   "outputs": [
    {
     "name": "stdout",
     "output_type": "stream",
     "text": [
      "Requirement already satisfied: pandas in c:\\users\\asus\\appdata\\local\\programs\\python\\python39\\lib\\site-packages (2.2.2)\n",
      "Requirement already satisfied: tzdata>=2022.7 in c:\\users\\asus\\appdata\\local\\programs\\python\\python39\\lib\\site-packages (from pandas) (2024.1)\n",
      "Requirement already satisfied: pytz>=2020.1 in c:\\users\\asus\\appdata\\local\\programs\\python\\python39\\lib\\site-packages (from pandas) (2024.1)\n",
      "Requirement already satisfied: python-dateutil>=2.8.2 in c:\\users\\asus\\appdata\\roaming\\python\\python39\\site-packages (from pandas) (2.9.0.post0)\n",
      "Requirement already satisfied: numpy>=1.22.4 in c:\\users\\asus\\appdata\\local\\programs\\python\\python39\\lib\\site-packages (from pandas) (1.26.4)\n",
      "Requirement already satisfied: six>=1.5 in c:\\users\\asus\\appdata\\roaming\\python\\python39\\site-packages (from python-dateutil>=2.8.2->pandas) (1.16.0)\n",
      "Note: you may need to restart the kernel to use updated packages.\n"
     ]
    },
    {
     "name": "stderr",
     "output_type": "stream",
     "text": [
      "WARNING: You are using pip version 22.0.4; however, version 24.0 is available.\n",
      "You should consider upgrading via the 'c:\\Users\\ASUS\\AppData\\Local\\Programs\\Python\\Python39\\python.exe -m pip install --upgrade pip' command.\n"
     ]
    }
   ],
   "source": [
    "pip install pandas"
   ]
  },
  {
   "cell_type": "code",
   "execution_count": 2,
   "id": "7503e61b",
   "metadata": {},
   "outputs": [
    {
     "name": "stdout",
     "output_type": "stream",
     "text": [
      "Requirement already satisfied: pyarrow in c:\\users\\asus\\appdata\\local\\programs\\python\\python39\\lib\\site-packages (15.0.2)\n",
      "Requirement already satisfied: numpy<2,>=1.16.6 in c:\\users\\asus\\appdata\\local\\programs\\python\\python39\\lib\\site-packages (from pyarrow) (1.26.4)\n",
      "Note: you may need to restart the kernel to use updated packages.\n"
     ]
    },
    {
     "name": "stderr",
     "output_type": "stream",
     "text": [
      "WARNING: You are using pip version 22.0.4; however, version 24.0 is available.\n",
      "You should consider upgrading via the 'c:\\Users\\ASUS\\AppData\\Local\\Programs\\Python\\Python39\\python.exe -m pip install --upgrade pip' command.\n"
     ]
    }
   ],
   "source": [
    "pip install pyarrow"
   ]
  },
  {
   "cell_type": "code",
   "execution_count": 3,
   "id": "8f4db0df-4db4-4392-82ff-8161d8665a16",
   "metadata": {},
   "outputs": [],
   "source": [
    "import pandas as pd"
   ]
  },
  {
   "cell_type": "code",
   "execution_count": 4,
   "id": "19a30149-df42-43b7-8c00-792649338147",
   "metadata": {},
   "outputs": [],
   "source": [
    "df_ambu = pd.read_parquet('ambulance_locations.parquet.gzip')\n",
    "df_pit =  pd.read_parquet('pit_locations.parquet.gzip')\n",
    "df_mug =  pd.read_parquet('mug_locations.parquet.gzip')\n",
    "df_aed = pd.read_parquet('aed_locations.parquet.gzip')\n",
    "df_ibxl =  pd.read_parquet('interventions_bxl.parquet.gzip')\n",
    "df_ibxl2 = pd.read_parquet('interventions_bxl2.parquet.gzip')\n",
    "df_i1 = pd.read_parquet('interventions1.parquet.gzip')\n",
    "df_i2 = pd.read_parquet('interventions2.parquet.gzip')\n",
    "df_i3 = pd.read_parquet('interventions3.parquet.gzip')\n",
    "df_cad9 = pd.read_parquet('cad9.parquet.gzip')"
   ]
  },
  {
   "cell_type": "code",
   "execution_count": null,
   "id": "1636a131",
   "metadata": {},
   "outputs": [],
   "source": [
    "df_ibxl_col_names = df_ibxl.columns.tolist()\n",
    "print(df_ibxl_col_names)"
   ]
  },
  {
   "cell_type": "code",
   "execution_count": null,
   "id": "7c3175bc",
   "metadata": {},
   "outputs": [],
   "source": [
    "class DatacleaningColExpl:\n",
    "    def __init__(self, dataset):\n",
    "        self.dataset = dataset\n",
    "    def analyze_col(self, columns):\n",
    "        for column in columns:\n",
    "            print(f\"Value Counts for '{column}':\")\n",
    "            print(self.dataset[column].value_counts())\n",
    "            print(f\"describe'{column}':\")\n",
    "            print(self.dataset[column].describe())    "
   ]
  },
  {
   "cell_type": "code",
   "execution_count": null,
   "id": "51fa76d8",
   "metadata": {},
   "outputs": [],
   "source": [
    "df_ibxl_col_names = df_ibxl.columns.tolist()\n",
    "print(df_ibxl_col_names)"
   ]
  },
  {
   "cell_type": "code",
   "execution_count": null,
   "id": "9611dc92",
   "metadata": {},
   "outputs": [],
   "source": [
    "analyseibxl = DatacleaningColExpl(df_ibxl)\n",
    "ibxl_col_to_analyze = ['eventtype_firstcall', 'eventLevel_firstcall', 'eventtype_trip', 'eventlevel_trip']\n",
    "analyseibxl.analyze_col(ibxl_col_to_analyze )"
   ]
  },
  {
   "cell_type": "code",
   "execution_count": null,
   "id": "4ad60f21",
   "metadata": {},
   "outputs": [],
   "source": [
    "df_ibxl2_col_names = df_ibxl2.columns.tolist()\n",
    "print(df_ibxl2_col_names)"
   ]
  },
  {
   "cell_type": "code",
   "execution_count": null,
   "id": "471736ab",
   "metadata": {},
   "outputs": [],
   "source": [
    "analyseibxl2 = DatacleaningColExpl(df_ibxl2)\n",
    "ibxl2_col_to_analyze = ['description_nl', 'ic_description_nl', 'EventType and EventLevel']\n",
    "analyseibxl2.analyze_col(ibxl2_col_to_analyze)"
   ]
  },
  {
   "cell_type": "code",
   "execution_count": null,
   "id": "484a7276",
   "metadata": {},
   "outputs": [],
   "source": [
    "df_i1_col_names = df_i1.columns.tolist()\n",
    "print(df_i1_col_names)"
   ]
  },
  {
   "cell_type": "code",
   "execution_count": null,
   "id": "2525c040",
   "metadata": {},
   "outputs": [],
   "source": [
    "analysei1 = DatacleaningColExpl(df_i1)\n",
    "i1_col_to_analyze = ['EventType Firstcall', 'EventLevel Firstcall', 'EventType Trip', 'EventLevel Trip']\n",
    "analysei1.analyze_col(i1_col_to_analyze)"
   ]
  },
  {
   "cell_type": "code",
   "execution_count": null,
   "id": "aebb94a8",
   "metadata": {},
   "outputs": [],
   "source": [
    "df_i2_col_names = df_i2.columns.tolist()\n",
    "print(df_i2_col_names)"
   ]
  },
  {
   "cell_type": "code",
   "execution_count": null,
   "id": "17451509",
   "metadata": {},
   "outputs": [],
   "source": [
    "analysei2 = DatacleaningColExpl(df_i2)\n",
    "i2_col_to_analyze = ['EventType Firstcall', 'EventLevel Firstcall', 'EventType Trip', 'EventLevel Trip']\n",
    "analysei2.analyze_col(i2_col_to_analyze)"
   ]
  },
  {
   "cell_type": "code",
   "execution_count": null,
   "id": "de94ffc9",
   "metadata": {},
   "outputs": [],
   "source": [
    "df_i3_col_names = df_i3.columns.tolist()\n",
    "print(df_i3_col_names)"
   ]
  },
  {
   "cell_type": "code",
   "execution_count": null,
   "id": "52c0a0b8",
   "metadata": {},
   "outputs": [],
   "source": [
    "analysei3 = DatacleaningColExpl(df_i3)\n",
    "i3_col_to_analyze = ['EventType Firstcall', 'EventLevel Firstcall', 'EventType Trip', 'EventLevel Trip']\n",
    "analysei3.analyze_col(i3_col_to_analyze)"
   ]
  },
  {
   "cell_type": "code",
   "execution_count": null,
   "id": "37868e97",
   "metadata": {},
   "outputs": [],
   "source": [
    "cad9_col_names = df_cad9.columns.tolist()\n",
    "print(cad9_col_names)"
   ]
  },
  {
   "cell_type": "code",
   "execution_count": null,
   "id": "35e955c1",
   "metadata": {},
   "outputs": [],
   "source": [
    "analysecad9 = DatacleaningColExpl(df_cad9)\n",
    "cad9_col_to_analyze = ['EventType Trip', 'EventSubType Trip', 'EventLevel Trip']\n",
    "analysecad9.analyze_col(cad9_col_to_analyze )"
   ]
  },
  {
   "cell_type": "code",
   "execution_count": 5,
   "id": "c9b7b789",
   "metadata": {},
   "outputs": [],
   "source": [
    "def string_cleaning(df, columnname, old_and_new_labels):\n",
    "    for key, input_list in old_and_new_labels.items():\n",
    "        for word in input_list:\n",
    "            df.loc[df[columnname].str.contains(word, na=False, case=False), columnname] = key\n",
    "    return df"
   ]
  },
  {
   "cell_type": "code",
   "execution_count": 7,
   "id": "5da59a04",
   "metadata": {},
   "outputs": [],
   "source": [
    "eventtype = {'cardiac arrest': ['N1P003'],\n",
    "             \n",
    "             'unrelated emergencies': ['P010', 'P002', 'P032', 'P027', 'P006', \n",
    "                                       'P024', 'P076', 'P014', 'P015', 'P003',\n",
    "                                       'P036', 'P060', 'P023', 'P022', 'P035', \n",
    "                                       'P018', 'P016', 'P064', 'P017', 'P025',\n",
    "                                       'P075', 'P063', 'P077', 'P074', 'P038',\n",
    "                                       'P065', 'P066', 'P031', 'P034', 'P067',\n",
    "                                       'P068', 'P028', 'P030', 'P001', 'P005',\n",
    "                                       'P069', 'P070', 'P071', 'P072', 'P073',\n",
    "                                       'P016', 'P033', 'P097', 'P080', 'P099',\n",
    "                                       'P061', 'P098', 'P095', 'P089', 'P096',\n",
    "                                       'P086', 'OOS - Placing out of service'\n",
    "                                       ],\n",
    "             'possible causes': ['N2P002', 'P039', 'P019', 'P004', 'P059', \n",
    "                                 'N2P14', 'N3P014', 'P020', 'P021', 'N2P017',\n",
    "                                 'P012', 'P013', 'P029', 'P026', 'P011', 'P009',\n",
    "                                 'N2P033', 'N3P033', 'N4P033', 'P007', 'N2P001',\n",
    "                                 'N3P001', 'N4P001'\n",
    "                                 ],\n",
    "            'related symptoms': ['N1', 'N2P019', 'N3P019', 'N4P019', 'P008', 'P000']\n",
    "            }"
   ]
  },
  {
   "cell_type": "code",
   "execution_count": 8,
   "id": "c81894ed",
   "metadata": {},
   "outputs": [],
   "source": [
    "df_ibxl['eventtypelevel_trip']=df_ibxl['eventlevel_trip'] + df_ibxl['eventtype_trip']"
   ]
  },
  {
   "cell_type": "code",
   "execution_count": 9,
   "id": "9e20c5dc",
   "metadata": {},
   "outputs": [],
   "source": [
    "new_df_ibxl = string_cleaning(df_ibxl, 'eventtype_trip', eventtype)"
   ]
  },
  {
   "cell_type": "code",
   "execution_count": 10,
   "id": "3b000304",
   "metadata": {},
   "outputs": [
    {
     "name": "stdout",
     "output_type": "stream",
     "text": [
      "eventtype_trip\n",
      "unrelated emergencies                                        65004\n",
      "possible causes                                              46487\n",
      "FI (1.3.0) fire building                                      1366\n",
      "related symptoms                                              1213\n",
      "TI (3.3.3) rescue from danger to fall/jump - hard              260\n",
      "HG (2.1.1) gas odour                                           201\n",
      "FI (1.4.0) fire confined space                                 177\n",
      "HG (2.1.2) gas leak                                            134\n",
      "TI (3.1.3) extrication trapped person                          110\n",
      "FI B(1.3.3) fire building IFDP                                 106\n",
      "TI (3.3.2) CO intoxication                                      98\n",
      "TI (3.4.0) water rescue                                         45\n",
      "P092 - MIP                                                      42\n",
      "TI B(3.1.10) extrication trapped person t m t above             33\n",
      "TI (3.2.0) extrication from vehicle                             32\n",
      "FI B(1.4.1) fire confined space IFDP                            30\n",
      "FI B(1.2.4) fire outdoor small night                            26\n",
      "TI (3.1.4) height/depth rescue                                  24\n",
      "TI B(3.1.11) extrication trapped person t m t underground       22\n",
      "HG (2.7.0) hazardous goods incident                             19\n",
      "TI (3.5.1) risk of building collapse                            18\n",
      "FI B(1.1.0) automatic fire alarm IFDP                           16\n",
      "FI B(1.2.2) fire outdoor large                                  13\n",
      "FI B(1.4.2) fire confined space tunnel                          12\n",
      "TI (3.3.4) rescue from danger to fall/jump - water              12\n",
      "FI B(1.4.3) fire confined space t t m                           10\n",
      "HG (2.3.0) explosion                                            10\n",
      "P091 - MIP pre-alert                                             9\n",
      "TI (3.1.5) rescue under debris                                   8\n",
      "FI B(1.4.4) fire confined space t t m confirmed                  7\n",
      "LO (5.5.16) reinforcement Casualty Extraction Team               4\n",
      "TI B(3.2.1) extrication from vehicle truck bus                   4\n",
      "FI (1.3.1) fire high voltage                                     4\n",
      "HG  B(2.3.1) explosion IFDP - terror                             3\n",
      "TI B(3.1.12) extrication trapped person truck/bus                3\n",
      "TI (3.3.1) rescue electrocution/electrification                  3\n",
      "TI (3.6.2) large animal in dange                                 2\n",
      "TI (3.4.1) dredging/hauling/floating                             2\n",
      "SI (4.3.0) shipping accident                                     2\n",
      "HG (2.6.0) environmental pollution                               2\n",
      "TI (3.6.3) animal in the water                                   2\n",
      "SI (4.4.0) underground pipeline rupture                          1\n",
      "HG (2.2.0) explosion risk                                        1\n",
      "FI (1.11.0) fire train/tram/metro                                1\n",
      "SI B(4.2.4) Aircraft in distress Full EM type 4                  1\n",
      "SI B(4.2.3) Aircraft in distress Full EM type 3                  1\n",
      "Name: count, dtype: int64\n"
     ]
    }
   ],
   "source": [
    "print(new_df_ibxl['eventtype_trip'].value_counts())"
   ]
  },
  {
   "cell_type": "code",
   "execution_count": null,
   "id": "5af32957",
   "metadata": {},
   "outputs": [],
   "source": [
    "print(df_ibxl['eventtype_trip'].str.contains(\"P033\", na=False, case=False).value_counts())"
   ]
  }
 ],
 "metadata": {
  "kernelspec": {
   "display_name": "Python 3 (ipykernel)",
   "language": "python",
   "name": "python3"
  },
  "language_info": {
   "codemirror_mode": {
    "name": "ipython",
    "version": 3
   },
   "file_extension": ".py",
   "mimetype": "text/x-python",
   "name": "python",
   "nbconvert_exporter": "python",
   "pygments_lexer": "ipython3",
   "version": "3.9.13"
  }
 },
 "nbformat": 4,
 "nbformat_minor": 5
}
