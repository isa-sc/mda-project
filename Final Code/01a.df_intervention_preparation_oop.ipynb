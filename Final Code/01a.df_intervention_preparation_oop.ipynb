{
 "cells": [
  {
   "cell_type": "code",
   "execution_count": 2,
   "metadata": {},
   "outputs": [],
   "source": [
    "import pandas as pd\n",
    "import numpy as np\n",
    "import re"
   ]
  },
  {
   "cell_type": "code",
   "execution_count": 3,
   "metadata": {},
   "outputs": [],
   "source": [
    "datasets = ['interventions_bxl', 'interventions_bxl2', \n",
    "            'interventions1', 'interventions2',\n",
    "            'interventions3', 'cad9']\n",
    "\n",
    "timeformat1 = [\n",
    "            'interventions_bxl2',\n",
    "            'interventions1',\n",
    "            'interventions2',\n",
    "            'interventions3'\n",
    "        ]\n",
    "\n",
    "timeformat2 = [\n",
    "            'interventions_bxl',\n",
    "            'cad9'\n",
    "        ]\n",
    "\n",
    "column_mapping_moment = {\n",
    "    'interventions_bxl': 't0',\n",
    "    'interventions_bxl2': 'T0',\n",
    "    'interventions1': 'T0',\n",
    "    'interventions2': 'T0',\n",
    "    'interventions3': 'T0',\n",
    "    'cad9': 'T0'\n",
    "}\n",
    "column_mapping = {\n",
    "    'interventions_bxl': {'mission_id': 'missionid', \n",
    "             'eventlevel_trip': 'eventlevel', \n",
    "             'eventtype_trip': 'eventtype',\n",
    "             'latitude_intervention': 'latitude',\n",
    "             'longitude_intervention': 'longitude',\n",
    "             'formatted_t0': 'moment'\n",
    "             },\n",
    "    'interventions_bxl2': {'Mission ID': 'missionid', \n",
    "              'EventType and EventLevel': ['eventlevel', 'eventtype'], \n",
    "              'Latitude intervention': 'latitude',\n",
    "              'Longitude intervention': 'longitude',\n",
    "              'formatted_t0': 'moment'\n",
    "              },\n",
    "    'interventions1': {'Mission ID': 'missionid', \n",
    "           'EventLevel Trip': 'eventlevel', \n",
    "           'EventType Trip': 'eventtype',\n",
    "           'Latitude intervention': 'latitude',\n",
    "           'Longitude intervention': 'longitude',\n",
    "           'formatted_t0': 'moment'\n",
    "           },\n",
    "    'interventions2': {'Mission ID': 'missionid', \n",
    "           'EventLevel Trip': 'eventlevel', \n",
    "           'EventType Trip': 'eventtype',\n",
    "           'Latitude intervention': 'latitude',\n",
    "           'Longitude intervention': 'longitude',\n",
    "           'formatted_t0': 'moment'\n",
    "           },\n",
    "    'interventions3': {'Mission ID': 'missionid', \n",
    "           'EventLevel Trip': 'eventlevel', \n",
    "           'EventType Trip': 'eventtype',\n",
    "           'Latitude intervention': 'latitude',\n",
    "           'Longitude intervention': 'longitude',\n",
    "           'formatted_t0': 'moment'\n",
    "           },\n",
    "    'cad9': {'Mission ID': 'missionid', \n",
    "             'EventLevel Trip': 'eventlevel', \n",
    "             'EventType Trip': 'eventtype',\n",
    "             'Latitude intervention': 'latitude',\n",
    "             'Longitude intervention': 'longitude',\n",
    "             'formatted_t0': 'moment'\n",
    "             }\n",
    "}"
   ]
  },
  {
   "cell_type": "code",
   "execution_count": null,
   "metadata": {},
   "outputs": [],
   "source": []
  },
  {
   "cell_type": "code",
   "execution_count": 4,
   "metadata": {},
   "outputs": [],
   "source": [
    "class InterventionProcessor:\n",
    "    def __init__(self, datasets, list_timeformat1, list_timeformat2, column_mapping_moment, column_mapping):\n",
    "        self.datasets = datasets\n",
    "        self.list_timeformat1 = list_timeformat1\n",
    "        self.list_timeformat2 = list_timeformat2\n",
    "        self.column_mapping_moment = column_mapping_moment\n",
    "        self.column_mapping = column_mapping\n",
    "        self.load_dfs()\n",
    "        self.format_times()\n",
    "        self.copy_columns()\n",
    "        self.concatenate_dataframes()\n",
    "\n",
    "    def load_dfs(self):\n",
    "        for set_name in self.datasets:\n",
    "            setattr(self, set_name, pd.read_parquet(f'{set_name}.parquet.gzip'))\n",
    "\n",
    "    def format_times(self):\n",
    "        for name in self.list_timeformat1:\n",
    "            df = getattr(self, name)\n",
    "            column_name = self.column_mapping_moment[name]\n",
    "            df['formatted_t0'] = pd.to_datetime(df[column_name], format=\"%d%b%y:%H:%M:%S\")\n",
    "        \n",
    "        for name in self.list_timeformat2:\n",
    "            df = getattr(self, name)\n",
    "            column_name = self.column_mapping_moment[name]\n",
    "            df['formatted_t0'] = pd.to_datetime(df[column_name])\n",
    "\n",
    "    def copy_columns(self):\n",
    "        for name, columns in self.column_mapping.items():\n",
    "            df = getattr(self, name)\n",
    "            for old_col, new_col in columns.items():\n",
    "                if isinstance(new_col, list):\n",
    "                    for new in new_col:\n",
    "                        df[new] = df[old_col]\n",
    "                else:\n",
    "                    df[new_col] = df[old_col]\n",
    "            df['dataframe'] = name\n",
    "    def concatenate_dataframes(self):\n",
    "        self.df_interventions = pd.DataFrame()\n",
    "        dataframes = []\n",
    "        for name in self.datasets:\n",
    "            df = getattr(self, name)\n",
    "            updated_df = df[['missionid', 'eventlevel', 'eventtype', \n",
    "                             'latitude', 'longitude', 'moment', 'dataframe']]\n",
    "            dataframes.append(updated_df)\n",
    "        self.df_interventions = pd.concat(dataframes, ignore_index=True)\n",
    "        \n",
    "\n",
    "\n"
   ]
  },
  {
   "cell_type": "code",
   "execution_count": 5,
   "metadata": {},
   "outputs": [
    {
     "name": "stderr",
     "output_type": "stream",
     "text": [
      "C:\\Users\\ASUS\\AppData\\Local\\Temp\\ipykernel_8988\\2065790222.py:26: FutureWarning: In a future version of pandas, parsing datetimes with mixed time zones will raise an error unless `utc=True`. Please specify `utc=True` to opt in to the new behaviour and silence this warning. To create a `Series` with mixed offsets and `object` dtype, please use `apply` and `datetime.datetime.strptime`\n",
      "  df['formatted_t0'] = pd.to_datetime(df[column_name])\n"
     ]
    }
   ],
   "source": [
    "# Example of how you should instantiate the class\n",
    "interventions = InterventionProcessor(\n",
    "    datasets=datasets, \n",
    "    list_timeformat1=timeformat1, \n",
    "    list_timeformat2=timeformat2, \n",
    "    column_mapping_moment=column_mapping_moment, \n",
    "    column_mapping=column_mapping\n",
    ")"
   ]
  },
  {
   "cell_type": "code",
   "execution_count": 6,
   "metadata": {},
   "outputs": [],
   "source": [
    "interventions_df = interventions.df_interventions"
   ]
  },
  {
   "cell_type": "code",
   "execution_count": 7,
   "metadata": {},
   "outputs": [
    {
     "data": {
      "text/html": [
       "<div>\n",
       "<style scoped>\n",
       "    .dataframe tbody tr th:only-of-type {\n",
       "        vertical-align: middle;\n",
       "    }\n",
       "\n",
       "    .dataframe tbody tr th {\n",
       "        vertical-align: top;\n",
       "    }\n",
       "\n",
       "    .dataframe thead th {\n",
       "        text-align: right;\n",
       "    }\n",
       "</style>\n",
       "<table border=\"1\" class=\"dataframe\">\n",
       "  <thead>\n",
       "    <tr style=\"text-align: right;\">\n",
       "      <th></th>\n",
       "      <th>missionid</th>\n",
       "      <th>eventlevel</th>\n",
       "      <th>eventtype</th>\n",
       "      <th>latitude</th>\n",
       "      <th>longitude</th>\n",
       "      <th>moment</th>\n",
       "      <th>dataframe</th>\n",
       "    </tr>\n",
       "  </thead>\n",
       "  <tbody>\n",
       "    <tr>\n",
       "      <th>0</th>\n",
       "      <td>20222490011</td>\n",
       "      <td>N5</td>\n",
       "      <td>P033 - Trauma</td>\n",
       "      <td>5085139.0</td>\n",
       "      <td>436918.0</td>\n",
       "      <td>2022-09-06 11:49:21.586859800+02:00</td>\n",
       "      <td>interventions_bxl</td>\n",
       "    </tr>\n",
       "    <tr>\n",
       "      <th>1</th>\n",
       "      <td>20222490011</td>\n",
       "      <td>N5</td>\n",
       "      <td>P033 - Trauma</td>\n",
       "      <td>5085139.0</td>\n",
       "      <td>436918.0</td>\n",
       "      <td>2022-09-06 11:49:21.586859800+02:00</td>\n",
       "      <td>interventions_bxl</td>\n",
       "    </tr>\n",
       "    <tr>\n",
       "      <th>2</th>\n",
       "      <td>20222490012</td>\n",
       "      <td>N5</td>\n",
       "      <td>P059 - Dizziness - Nausea</td>\n",
       "      <td>5083336.0</td>\n",
       "      <td>434504.0</td>\n",
       "      <td>2022-09-06 11:55:35.793679100+02:00</td>\n",
       "      <td>interventions_bxl</td>\n",
       "    </tr>\n",
       "    <tr>\n",
       "      <th>3</th>\n",
       "      <td>20222490015</td>\n",
       "      <td>N5</td>\n",
       "      <td>P019 - Unconscious - syncope</td>\n",
       "      <td>5085076.0</td>\n",
       "      <td>436359.0</td>\n",
       "      <td>2022-09-06 12:39:23.433732400+02:00</td>\n",
       "      <td>interventions_bxl</td>\n",
       "    </tr>\n",
       "    <tr>\n",
       "      <th>4</th>\n",
       "      <td>20222490019</td>\n",
       "      <td>N5</td>\n",
       "      <td>P033 - Trauma</td>\n",
       "      <td>508561.0</td>\n",
       "      <td>443169.0</td>\n",
       "      <td>2022-09-06 13:26:48.337914700+02:00</td>\n",
       "      <td>interventions_bxl</td>\n",
       "    </tr>\n",
       "  </tbody>\n",
       "</table>\n",
       "</div>"
      ],
      "text/plain": [
       "     missionid eventlevel                     eventtype   latitude  longitude  \\\n",
       "0  20222490011         N5                 P033 - Trauma  5085139.0   436918.0   \n",
       "1  20222490011         N5                 P033 - Trauma  5085139.0   436918.0   \n",
       "2  20222490012         N5     P059 - Dizziness - Nausea  5083336.0   434504.0   \n",
       "3  20222490015         N5  P019 - Unconscious - syncope  5085076.0   436359.0   \n",
       "4  20222490019         N5                 P033 - Trauma   508561.0   443169.0   \n",
       "\n",
       "                                moment          dataframe  \n",
       "0  2022-09-06 11:49:21.586859800+02:00  interventions_bxl  \n",
       "1  2022-09-06 11:49:21.586859800+02:00  interventions_bxl  \n",
       "2  2022-09-06 11:55:35.793679100+02:00  interventions_bxl  \n",
       "3  2022-09-06 12:39:23.433732400+02:00  interventions_bxl  \n",
       "4  2022-09-06 13:26:48.337914700+02:00  interventions_bxl  "
      ]
     },
     "execution_count": 7,
     "metadata": {},
     "output_type": "execute_result"
    }
   ],
   "source": [
    "interventions_df.head()"
   ]
  },
  {
   "cell_type": "code",
   "execution_count": 8,
   "metadata": {},
   "outputs": [
    {
     "data": {
      "text/plain": [
       "1045549"
      ]
     },
     "execution_count": 8,
     "metadata": {},
     "output_type": "execute_result"
    }
   ],
   "source": [
    "len(interventions_df)"
   ]
  },
  {
   "cell_type": "code",
   "execution_count": 9,
   "metadata": {},
   "outputs": [],
   "source": [
    "interventions_df.to_parquet('interventions_df.parquet.gzip',\n",
    "              compression='gzip')"
   ]
  }
 ],
 "metadata": {
  "kernelspec": {
   "display_name": "Python 3",
   "language": "python",
   "name": "python3"
  },
  "language_info": {
   "codemirror_mode": {
    "name": "ipython",
    "version": 3
   },
   "file_extension": ".py",
   "mimetype": "text/x-python",
   "name": "python",
   "nbconvert_exporter": "python",
   "pygments_lexer": "ipython3",
   "version": "3.9.13"
  }
 },
 "nbformat": 4,
 "nbformat_minor": 2
}
