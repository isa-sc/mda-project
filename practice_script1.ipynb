{
 "cells": [
  {
   "cell_type": "code",
   "execution_count": 1,
   "metadata": {},
   "outputs": [],
   "source": [
    "import plotly.express as px"
   ]
  },
  {
   "cell_type": "code",
   "execution_count": 37,
   "metadata": {},
   "outputs": [
    {
     "name": "stdout",
     "output_type": "stream",
     "text": [
      "Collecting Faker\n",
      "  Obtaining dependency information for Faker from https://files.pythonhosted.org/packages/c5/92/ce8f09c7fe1fc4be9cc6c146cac534f6a140a8ab2ddda5c493f622ce43f0/Faker-24.14.0-py3-none-any.whl.metadata\n",
      "  Downloading Faker-24.14.0-py3-none-any.whl.metadata (15 kB)\n",
      "Requirement already satisfied: python-dateutil>=2.4 in /Users/keziahdutt/anaconda3/lib/python3.11/site-packages (from Faker) (2.8.2)\n",
      "Requirement already satisfied: six>=1.5 in /Users/keziahdutt/anaconda3/lib/python3.11/site-packages (from python-dateutil>=2.4->Faker) (1.16.0)\n",
      "Downloading Faker-24.14.0-py3-none-any.whl (1.8 MB)\n",
      "\u001b[2K   \u001b[90m━━━━━━━━━━━━━━━━━━━━━━━━━━━━━━━━━━━━━━━━\u001b[0m \u001b[32m1.8/1.8 MB\u001b[0m \u001b[31m14.1 MB/s\u001b[0m eta \u001b[36m0:00:00\u001b[0ma \u001b[36m0:00:01\u001b[0m\n",
      "\u001b[?25hInstalling collected packages: Faker\n",
      "Successfully installed Faker-24.14.0\n",
      "Note: you may need to restart the kernel to use updated packages.\n"
     ]
    }
   ],
   "source": [
    "pip install Faker"
   ]
  },
  {
   "cell_type": "code",
   "execution_count": 26,
   "metadata": {},
   "outputs": [],
   "source": [
    "import plotly.graph_objects as go"
   ]
  },
  {
   "cell_type": "code",
   "execution_count": 38,
   "metadata": {},
   "outputs": [],
   "source": [
    "\n",
    "import pandas as pd\n",
    "import numpy as np\n",
    "from faker import Faker\n",
    "\n"
   ]
  },
  {
   "cell_type": "code",
   "execution_count": 63,
   "metadata": {},
   "outputs": [
    {
     "name": "stdout",
     "output_type": "stream",
     "text": [
      "          Opening Hours   Latitude  Longitude  \\\n",
      "0  normal working hours  50.511549   4.016955   \n",
      "1           always open  49.966858   3.538471   \n",
      "2  normal working hours  50.441391   3.512960   \n",
      "3           always open  49.923985   4.390353   \n",
      "4           always open  50.430053   5.623719   \n",
      "\n",
      "                            aed_coordinates aed_placement  \n",
      "0    (50.51154925206388, 4.016955350339335)       outside  \n",
      "1    (49.96685763244193, 3.538470782753567)        inside  \n",
      "2  (50.441391057425115, 3.5129597960493943)       outside  \n",
      "3   (49.923985198490506, 4.390352932153449)       outside  \n",
      "4   (50.430053105498615, 5.623718872934989)       outside  \n"
     ]
    }
   ],
   "source": [
    "#Create \n",
    "\n",
    "# Set random seed for reproducibility\n",
    "np.random.seed(0)\n",
    "\n",
    "# Initialize Faker to generate fake data\n",
    "fake = Faker()\n",
    "\n",
    "# Define the number of rows in the dataset\n",
    "num_rows = 100\n",
    "\n",
    "# Create a DataFrame to store the fake dataset\n",
    "practice_df = pd.DataFrame()\n",
    "\n",
    "# Create opening hours variable\n",
    "opening_hours_categories = ['normal working hours', 'always open', 'sport hours']\n",
    "opening_hours = np.random.choice(opening_hours_categories, size=num_rows)\n",
    "\n",
    "# Add the opening hours variable to the DataFrame\n",
    "practice_df['Opening Hours'] = opening_hours\n",
    "\n",
    "# Generate aed location variable\n",
    "min_lat, max_lat = 49.9, 51.1  # Latitude boundaries of Belgium\n",
    "min_lon, max_lon = 3, 6    # Longitude boundaries of Belgium\n",
    "practice_df['Latitude'] = np.random.uniform(min_lat, max_lat, size=num_rows)\n",
    "practice_df['Longitude'] = np.random.uniform(min_lon, max_lon, size=num_rows)\n",
    "practice_df['aed_coordinates'] = list(zip(practice_df['Latitude'], practice_df['Longitude']))\n",
    "\n",
    "#generate aed placement variable\n",
    "\n",
    "aed_placement_categories = ['outside', 'inside']\n",
    "aed_placement = np.random.choice(aed_placement_categories, size=num_rows)\n",
    "practice_df['aed_placement'] = aed_placement\n",
    "\n",
    "# Display the first few rows of the DataFrame\n",
    "print(practice_df.head())\n",
    "\n",
    "\n"
   ]
  },
  {
   "cell_type": "code",
   "execution_count": 64,
   "metadata": {},
   "outputs": [
    {
     "data": {
      "application/vnd.plotly.v1+json": {
       "config": {
        "plotlyServerURL": "https://plot.ly"
       },
       "data": [
        {
         "hovertemplate": "lat=%{lat}<br>lon=%{lon}<extra></extra>",
         "lat": [
          50.5
         ],
         "legendgroup": "",
         "lon": [
          4.3517
         ],
         "marker": {
          "color": "#636efa"
         },
         "mode": "markers",
         "name": "",
         "showlegend": false,
         "subplot": "mapbox",
         "type": "scattermapbox"
        },
        {
         "hovertemplate": "Latitude=%{lat}<br>Longitude=%{lon}<extra></extra>",
         "lat": [
          50.51154925206388,
          49.96685763244193,
          50.441391057425115,
          49.923985198490506,
          50.430053105498615,
          51.07550407457528,
          50.33133335676319,
          50.4770722370034,
          50.72639341936692,
          50.95657106710311,
          51.00188255963457,
          50.16018656515305,
          50.57822663992585,
          50.938123073566466,
          50.51076275280042,
          51.00006754482335,
          51.00538913228464,
          49.99973499115672,
          50.233262273537235,
          49.91122804582784,
          50.910810495601275,
          50.67660896822507,
          50.909663343036826,
          50.217676197140136,
          50.37738490331036,
          50.563385775865086,
          50.09792855229026,
          50.34376971129801,
          50.075730115274936,
          50.583542087107965,
          50.7444847351479,
          50.246171724458236,
          50.419945674378454,
          50.80732803263805,
          50.37531793050803,
          50.97524606501089,
          50.66670529147758,
          50.96986532467081,
          50.7160666833561,
          50.43903728586205,
          51.07428511410486,
          50.039442291534876,
          50.820428444270476,
          50.39418416675781,
          50.71052689744028,
          50.19975553078597,
          50.27586199833514,
          51.058499464623914,
          50.606158102082496,
          50.691602094483294,
          50.53984750469998,
          50.176639628207596,
          50.373843152140275,
          50.64257027750963,
          50.46984101849073,
          50.46415862710692,
          50.75928943747437,
          50.24558920523594,
          50.360154670041936,
          50.79900380458327,
          50.954142628331255,
          50.02343603043212,
          50.01084866735307,
          50.324855994500574,
          50.56217951095991,
          49.940350112198594,
          51.06275411831233,
          50.285196689648195,
          50.16551522222054,
          50.069516685911076,
          50.016711912475806,
          51.080850689636975,
          50.21240911310488,
          50.54442702565093,
          50.43751140624487,
          50.01948290693297,
          50.32277399344064,
          50.46309900878829,
          50.90936815574272,
          50.98557729305142,
          49.945071260593764,
          50.50997853829467,
          50.100217015658195,
          50.834861223530844,
          50.93791995472299,
          50.393676068506544,
          50.067967102591844,
          49.93986686231941,
          51.07908995179023,
          50.347948900939905,
          50.404090443748736,
          49.96070573806508,
          50.33859532751609,
          49.919953568480636,
          50.17689080248815,
          50.81789403879623,
          51.03294822332255,
          50.79999909852412,
          50.307284583339424,
          50.48745872426931
         ],
         "legendgroup": "",
         "lon": [
          4.016955350339335,
          3.538470782753567,
          3.5129597960493943,
          4.390352932153449,
          5.623718872934989,
          5.83235925275269,
          4.824758597562039,
          4.7899662188851595,
          5.3509327359056655,
          4.500078893187904,
          3.1511101702726316,
          5.097294224155533,
          5.977189196665898,
          3.801787613644435,
          5.037271846882241,
          5.592844328058733,
          5.2525327368852945,
          5.893469303368293,
          4.662727305253321,
          3.6371714966709257,
          3.6673296731604563,
          3.6562481212103153,
          4.708720603724214,
          4.356327105100277,
          5.910710049288301,
          5.041634073578338,
          3.2558866975761016,
          3.1692549981418985,
          4.463513113076893,
          5.643013686605025,
          5.9292131597791276,
          4.85297374828764,
          4.627496325031192,
          5.563840740932143,
          5.231503635929363,
          4.435788976856251,
          5.031244722081256,
          4.821135183349355,
          5.144090808712071,
          4.408491549273513,
          4.368043869653602,
          5.719254261180513,
          3.411661260291584,
          3.6876579692597384,
          5.644756197631742,
          5.713274927067695,
          4.937353795505698,
          3.974048916199396,
          4.559133580974828,
          3.000166070595026,
          3.935580662046567,
          4.276354613856528,
          5.656012978828756,
          5.039638369220309,
          4.368389316368586,
          4.450225849796258,
          5.36621828259611,
          3.688325503413136,
          5.640892809345014,
          3.941077177524089,
          5.872352566976861,
          4.415254712678403,
          5.134751451182441,
          3.4610829150233893,
          5.191326529700383,
          4.938793311944055,
          3.6446422102517344,
          3.5593746584680153,
          5.422740806576362,
          5.2412384104177026,
          5.024542037786077,
          3.830681252451273,
          3.5247266229285223,
          5.1134227751804815,
          4.3894505999704,
          5.521285597606298,
          3.614597286541337,
          3.4948766042602717,
          3.3744991724702578,
          5.166241987208246,
          3.091358894824801,
          5.2409827205985104,
          3.2777884953555407,
          3.6523514781167155,
          5.247763251189719,
          5.1950812693940716,
          3.1368439114526594,
          3.6274710884425234,
          3.860745129901814,
          5.031789916015281,
          3.1891148690081303,
          4.6669477283104355,
          3.0277202204596225,
          5.499114292528173,
          5.952988303044366,
          5.110484352404106,
          3.5448936014761463,
          4.537180389887711,
          4.74134141156439,
          5.362626467865078
         ],
         "marker": {
          "color": "#636efa"
         },
         "mode": "markers",
         "name": "",
         "showlegend": false,
         "subplot": "mapbox",
         "type": "scattermapbox"
        }
       ],
       "layout": {
        "legend": {
         "tracegroupgap": 0
        },
        "mapbox": {
         "accesstoken": "pk.eyJ1Ijoia2V6aWFoZHV0dCIsImEiOiJjbHZnaXo3Y3cwcW16Mmpudnh6anRzZXp5In0.JawqtWmD9uBcGjDAt8C5zg",
         "center": {
          "lat": 50.5,
          "lon": 4.3517
         },
         "domain": {
          "x": [
           0,
           1
          ],
          "y": [
           0,
           1
          ]
         },
         "style": "light",
         "zoom": 6
        },
        "margin": {
         "t": 60
        },
        "template": {
         "data": {
          "bar": [
           {
            "error_x": {
             "color": "#2a3f5f"
            },
            "error_y": {
             "color": "#2a3f5f"
            },
            "marker": {
             "line": {
              "color": "#E5ECF6",
              "width": 0.5
             },
             "pattern": {
              "fillmode": "overlay",
              "size": 10,
              "solidity": 0.2
             }
            },
            "type": "bar"
           }
          ],
          "barpolar": [
           {
            "marker": {
             "line": {
              "color": "#E5ECF6",
              "width": 0.5
             },
             "pattern": {
              "fillmode": "overlay",
              "size": 10,
              "solidity": 0.2
             }
            },
            "type": "barpolar"
           }
          ],
          "carpet": [
           {
            "aaxis": {
             "endlinecolor": "#2a3f5f",
             "gridcolor": "white",
             "linecolor": "white",
             "minorgridcolor": "white",
             "startlinecolor": "#2a3f5f"
            },
            "baxis": {
             "endlinecolor": "#2a3f5f",
             "gridcolor": "white",
             "linecolor": "white",
             "minorgridcolor": "white",
             "startlinecolor": "#2a3f5f"
            },
            "type": "carpet"
           }
          ],
          "choropleth": [
           {
            "colorbar": {
             "outlinewidth": 0,
             "ticks": ""
            },
            "type": "choropleth"
           }
          ],
          "contour": [
           {
            "colorbar": {
             "outlinewidth": 0,
             "ticks": ""
            },
            "colorscale": [
             [
              0,
              "#0d0887"
             ],
             [
              0.1111111111111111,
              "#46039f"
             ],
             [
              0.2222222222222222,
              "#7201a8"
             ],
             [
              0.3333333333333333,
              "#9c179e"
             ],
             [
              0.4444444444444444,
              "#bd3786"
             ],
             [
              0.5555555555555556,
              "#d8576b"
             ],
             [
              0.6666666666666666,
              "#ed7953"
             ],
             [
              0.7777777777777778,
              "#fb9f3a"
             ],
             [
              0.8888888888888888,
              "#fdca26"
             ],
             [
              1,
              "#f0f921"
             ]
            ],
            "type": "contour"
           }
          ],
          "contourcarpet": [
           {
            "colorbar": {
             "outlinewidth": 0,
             "ticks": ""
            },
            "type": "contourcarpet"
           }
          ],
          "heatmap": [
           {
            "colorbar": {
             "outlinewidth": 0,
             "ticks": ""
            },
            "colorscale": [
             [
              0,
              "#0d0887"
             ],
             [
              0.1111111111111111,
              "#46039f"
             ],
             [
              0.2222222222222222,
              "#7201a8"
             ],
             [
              0.3333333333333333,
              "#9c179e"
             ],
             [
              0.4444444444444444,
              "#bd3786"
             ],
             [
              0.5555555555555556,
              "#d8576b"
             ],
             [
              0.6666666666666666,
              "#ed7953"
             ],
             [
              0.7777777777777778,
              "#fb9f3a"
             ],
             [
              0.8888888888888888,
              "#fdca26"
             ],
             [
              1,
              "#f0f921"
             ]
            ],
            "type": "heatmap"
           }
          ],
          "heatmapgl": [
           {
            "colorbar": {
             "outlinewidth": 0,
             "ticks": ""
            },
            "colorscale": [
             [
              0,
              "#0d0887"
             ],
             [
              0.1111111111111111,
              "#46039f"
             ],
             [
              0.2222222222222222,
              "#7201a8"
             ],
             [
              0.3333333333333333,
              "#9c179e"
             ],
             [
              0.4444444444444444,
              "#bd3786"
             ],
             [
              0.5555555555555556,
              "#d8576b"
             ],
             [
              0.6666666666666666,
              "#ed7953"
             ],
             [
              0.7777777777777778,
              "#fb9f3a"
             ],
             [
              0.8888888888888888,
              "#fdca26"
             ],
             [
              1,
              "#f0f921"
             ]
            ],
            "type": "heatmapgl"
           }
          ],
          "histogram": [
           {
            "marker": {
             "pattern": {
              "fillmode": "overlay",
              "size": 10,
              "solidity": 0.2
             }
            },
            "type": "histogram"
           }
          ],
          "histogram2d": [
           {
            "colorbar": {
             "outlinewidth": 0,
             "ticks": ""
            },
            "colorscale": [
             [
              0,
              "#0d0887"
             ],
             [
              0.1111111111111111,
              "#46039f"
             ],
             [
              0.2222222222222222,
              "#7201a8"
             ],
             [
              0.3333333333333333,
              "#9c179e"
             ],
             [
              0.4444444444444444,
              "#bd3786"
             ],
             [
              0.5555555555555556,
              "#d8576b"
             ],
             [
              0.6666666666666666,
              "#ed7953"
             ],
             [
              0.7777777777777778,
              "#fb9f3a"
             ],
             [
              0.8888888888888888,
              "#fdca26"
             ],
             [
              1,
              "#f0f921"
             ]
            ],
            "type": "histogram2d"
           }
          ],
          "histogram2dcontour": [
           {
            "colorbar": {
             "outlinewidth": 0,
             "ticks": ""
            },
            "colorscale": [
             [
              0,
              "#0d0887"
             ],
             [
              0.1111111111111111,
              "#46039f"
             ],
             [
              0.2222222222222222,
              "#7201a8"
             ],
             [
              0.3333333333333333,
              "#9c179e"
             ],
             [
              0.4444444444444444,
              "#bd3786"
             ],
             [
              0.5555555555555556,
              "#d8576b"
             ],
             [
              0.6666666666666666,
              "#ed7953"
             ],
             [
              0.7777777777777778,
              "#fb9f3a"
             ],
             [
              0.8888888888888888,
              "#fdca26"
             ],
             [
              1,
              "#f0f921"
             ]
            ],
            "type": "histogram2dcontour"
           }
          ],
          "mesh3d": [
           {
            "colorbar": {
             "outlinewidth": 0,
             "ticks": ""
            },
            "type": "mesh3d"
           }
          ],
          "parcoords": [
           {
            "line": {
             "colorbar": {
              "outlinewidth": 0,
              "ticks": ""
             }
            },
            "type": "parcoords"
           }
          ],
          "pie": [
           {
            "automargin": true,
            "type": "pie"
           }
          ],
          "scatter": [
           {
            "fillpattern": {
             "fillmode": "overlay",
             "size": 10,
             "solidity": 0.2
            },
            "type": "scatter"
           }
          ],
          "scatter3d": [
           {
            "line": {
             "colorbar": {
              "outlinewidth": 0,
              "ticks": ""
             }
            },
            "marker": {
             "colorbar": {
              "outlinewidth": 0,
              "ticks": ""
             }
            },
            "type": "scatter3d"
           }
          ],
          "scattercarpet": [
           {
            "marker": {
             "colorbar": {
              "outlinewidth": 0,
              "ticks": ""
             }
            },
            "type": "scattercarpet"
           }
          ],
          "scattergeo": [
           {
            "marker": {
             "colorbar": {
              "outlinewidth": 0,
              "ticks": ""
             }
            },
            "type": "scattergeo"
           }
          ],
          "scattergl": [
           {
            "marker": {
             "colorbar": {
              "outlinewidth": 0,
              "ticks": ""
             }
            },
            "type": "scattergl"
           }
          ],
          "scattermapbox": [
           {
            "marker": {
             "colorbar": {
              "outlinewidth": 0,
              "ticks": ""
             }
            },
            "type": "scattermapbox"
           }
          ],
          "scatterpolar": [
           {
            "marker": {
             "colorbar": {
              "outlinewidth": 0,
              "ticks": ""
             }
            },
            "type": "scatterpolar"
           }
          ],
          "scatterpolargl": [
           {
            "marker": {
             "colorbar": {
              "outlinewidth": 0,
              "ticks": ""
             }
            },
            "type": "scatterpolargl"
           }
          ],
          "scatterternary": [
           {
            "marker": {
             "colorbar": {
              "outlinewidth": 0,
              "ticks": ""
             }
            },
            "type": "scatterternary"
           }
          ],
          "surface": [
           {
            "colorbar": {
             "outlinewidth": 0,
             "ticks": ""
            },
            "colorscale": [
             [
              0,
              "#0d0887"
             ],
             [
              0.1111111111111111,
              "#46039f"
             ],
             [
              0.2222222222222222,
              "#7201a8"
             ],
             [
              0.3333333333333333,
              "#9c179e"
             ],
             [
              0.4444444444444444,
              "#bd3786"
             ],
             [
              0.5555555555555556,
              "#d8576b"
             ],
             [
              0.6666666666666666,
              "#ed7953"
             ],
             [
              0.7777777777777778,
              "#fb9f3a"
             ],
             [
              0.8888888888888888,
              "#fdca26"
             ],
             [
              1,
              "#f0f921"
             ]
            ],
            "type": "surface"
           }
          ],
          "table": [
           {
            "cells": {
             "fill": {
              "color": "#EBF0F8"
             },
             "line": {
              "color": "white"
             }
            },
            "header": {
             "fill": {
              "color": "#C8D4E3"
             },
             "line": {
              "color": "white"
             }
            },
            "type": "table"
           }
          ]
         },
         "layout": {
          "annotationdefaults": {
           "arrowcolor": "#2a3f5f",
           "arrowhead": 0,
           "arrowwidth": 1
          },
          "autotypenumbers": "strict",
          "coloraxis": {
           "colorbar": {
            "outlinewidth": 0,
            "ticks": ""
           }
          },
          "colorscale": {
           "diverging": [
            [
             0,
             "#8e0152"
            ],
            [
             0.1,
             "#c51b7d"
            ],
            [
             0.2,
             "#de77ae"
            ],
            [
             0.3,
             "#f1b6da"
            ],
            [
             0.4,
             "#fde0ef"
            ],
            [
             0.5,
             "#f7f7f7"
            ],
            [
             0.6,
             "#e6f5d0"
            ],
            [
             0.7,
             "#b8e186"
            ],
            [
             0.8,
             "#7fbc41"
            ],
            [
             0.9,
             "#4d9221"
            ],
            [
             1,
             "#276419"
            ]
           ],
           "sequential": [
            [
             0,
             "#0d0887"
            ],
            [
             0.1111111111111111,
             "#46039f"
            ],
            [
             0.2222222222222222,
             "#7201a8"
            ],
            [
             0.3333333333333333,
             "#9c179e"
            ],
            [
             0.4444444444444444,
             "#bd3786"
            ],
            [
             0.5555555555555556,
             "#d8576b"
            ],
            [
             0.6666666666666666,
             "#ed7953"
            ],
            [
             0.7777777777777778,
             "#fb9f3a"
            ],
            [
             0.8888888888888888,
             "#fdca26"
            ],
            [
             1,
             "#f0f921"
            ]
           ],
           "sequentialminus": [
            [
             0,
             "#0d0887"
            ],
            [
             0.1111111111111111,
             "#46039f"
            ],
            [
             0.2222222222222222,
             "#7201a8"
            ],
            [
             0.3333333333333333,
             "#9c179e"
            ],
            [
             0.4444444444444444,
             "#bd3786"
            ],
            [
             0.5555555555555556,
             "#d8576b"
            ],
            [
             0.6666666666666666,
             "#ed7953"
            ],
            [
             0.7777777777777778,
             "#fb9f3a"
            ],
            [
             0.8888888888888888,
             "#fdca26"
            ],
            [
             1,
             "#f0f921"
            ]
           ]
          },
          "colorway": [
           "#636efa",
           "#EF553B",
           "#00cc96",
           "#ab63fa",
           "#FFA15A",
           "#19d3f3",
           "#FF6692",
           "#B6E880",
           "#FF97FF",
           "#FECB52"
          ],
          "font": {
           "color": "#2a3f5f"
          },
          "geo": {
           "bgcolor": "white",
           "lakecolor": "white",
           "landcolor": "#E5ECF6",
           "showlakes": true,
           "showland": true,
           "subunitcolor": "white"
          },
          "hoverlabel": {
           "align": "left"
          },
          "hovermode": "closest",
          "mapbox": {
           "style": "light"
          },
          "paper_bgcolor": "white",
          "plot_bgcolor": "#E5ECF6",
          "polar": {
           "angularaxis": {
            "gridcolor": "white",
            "linecolor": "white",
            "ticks": ""
           },
           "bgcolor": "#E5ECF6",
           "radialaxis": {
            "gridcolor": "white",
            "linecolor": "white",
            "ticks": ""
           }
          },
          "scene": {
           "xaxis": {
            "backgroundcolor": "#E5ECF6",
            "gridcolor": "white",
            "gridwidth": 2,
            "linecolor": "white",
            "showbackground": true,
            "ticks": "",
            "zerolinecolor": "white"
           },
           "yaxis": {
            "backgroundcolor": "#E5ECF6",
            "gridcolor": "white",
            "gridwidth": 2,
            "linecolor": "white",
            "showbackground": true,
            "ticks": "",
            "zerolinecolor": "white"
           },
           "zaxis": {
            "backgroundcolor": "#E5ECF6",
            "gridcolor": "white",
            "gridwidth": 2,
            "linecolor": "white",
            "showbackground": true,
            "ticks": "",
            "zerolinecolor": "white"
           }
          },
          "shapedefaults": {
           "line": {
            "color": "#2a3f5f"
           }
          },
          "ternary": {
           "aaxis": {
            "gridcolor": "white",
            "linecolor": "white",
            "ticks": ""
           },
           "baxis": {
            "gridcolor": "white",
            "linecolor": "white",
            "ticks": ""
           },
           "bgcolor": "#E5ECF6",
           "caxis": {
            "gridcolor": "white",
            "linecolor": "white",
            "ticks": ""
           }
          },
          "title": {
           "x": 0.05
          },
          "xaxis": {
           "automargin": true,
           "gridcolor": "white",
           "linecolor": "white",
           "ticks": "",
           "title": {
            "standoff": 15
           },
           "zerolinecolor": "white",
           "zerolinewidth": 2
          },
          "yaxis": {
           "automargin": true,
           "gridcolor": "white",
           "linecolor": "white",
           "ticks": "",
           "title": {
            "standoff": 15
           },
           "zerolinecolor": "white",
           "zerolinewidth": 2
          }
         }
        }
       }
      }
     },
     "metadata": {},
     "output_type": "display_data"
    }
   ],
   "source": [
    "px.set_mapbox_access_token('pk.eyJ1Ijoia2V6aWFoZHV0dCIsImEiOiJjbHZnaXo3Y3cwcW16Mmpudnh6anRzZXp5In0.JawqtWmD9uBcGjDAt8C5zg')\n",
    "center_lat = 50.5  # Latitude of the center of the country\n",
    "center_lon = 4.3517  # Longitude of the center of the country\n",
    "zoom_level = 6       # Zoom level (1-20)\n",
    "# Create the base map\n",
    "map_base = px.scatter_mapbox(lat=[center_lat], lon=[center_lon], zoom=zoom_level)\n",
    "\n",
    "# Update the layout of the base map\n",
    "map_base.update_layout(mapbox_style=\"light\")\n",
    "\n",
    "# Add the scatter plot layer with the coordinate locations\n",
    "aed_location_layer = px.scatter_mapbox(practice_df, lat='Latitude', lon='Longitude')\n",
    "\n",
    "# Add the scatter plot layer to the base map\n",
    "map_with_aed_points = map_base.add_trace(aed_location_layer.data[0])\n",
    "\n",
    "# Show the map\n",
    "map_with_aed_points.show()"
   ]
  },
  {
   "cell_type": "code",
   "execution_count": null,
   "metadata": {},
   "outputs": [],
   "source": []
  }
 ],
 "metadata": {
  "kernelspec": {
   "display_name": "base",
   "language": "python",
   "name": "python3"
  },
  "language_info": {
   "codemirror_mode": {
    "name": "ipython",
    "version": 3
   },
   "file_extension": ".py",
   "mimetype": "text/x-python",
   "name": "python",
   "nbconvert_exporter": "python",
   "pygments_lexer": "ipython3",
   "version": "3.11.5"
  }
 },
 "nbformat": 4,
 "nbformat_minor": 2
}
