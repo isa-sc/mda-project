{
 "cells": [
  {
   "cell_type": "code",
   "execution_count": 5,
   "metadata": {},
   "outputs": [
    {
     "ename": "SyntaxError",
     "evalue": "incomplete input (878836371.py, line 50)",
     "output_type": "error",
     "traceback": [
      "\u001b[1;36m  Cell \u001b[1;32mIn[5], line 50\u001b[1;36m\u001b[0m\n\u001b[1;33m    'schuin over medische dienst', 'all-ranks', 'ancienne boulangerie']\u001b[0m\n\u001b[1;37m                                                                       ^\u001b[0m\n\u001b[1;31mSyntaxError\u001b[0m\u001b[1;31m:\u001b[0m incomplete input\n"
     ]
    }
   ],
   "source": [
    "import pandas as pd\n",
    "\n",
    "# Load data\n",
    "df_aed = pd.read_parquet('aed_locations.parquet.gzip')\n",
    "\n",
    "# Standardize the case (convert everything to lowercase)\n",
    "df_aed['location'] = df_aed['location'].astype(str).str.lower()\n",
    "\n",
    "# Function to categorize items with case insensitivity\n",
    "def string_cleaning(df, columnname, old_and_new_labels):\n",
    "    # Remove unwanted characters and convert to lowercase\n",
    "    df[columnname] = df[columnname].str.lower().str.strip()\n",
    "    \n",
    "    repl = {'/': '', '.': '', ';': '', ',': '', ' ': ''}\n",
    "    df[columnname] = df[columnname].replace(repl, regex=True)\n",
    "    \n",
    "    for key, input_list in old_and_new_labels.items():\n",
    "        for word in input_list:\n",
    "            cleaned_word = word.lower().replace(' ', '').replace(',', '').replace('.', '').replace(';', '').strip()\n",
    "            df.loc[df[columnname].str.contains(cleaned_word, na=False), columnname] = key\n",
    "    \n",
    "    return df\n",
    "\n",
    "# Renaming locations into 3 categories for placement\n",
    "renaming_locations = {'outside public acccess': ['Extérieur','buit','Façade', 'facade','gevel', 'straat', 'veld','rue','veranda','muur', 'pied',\n",
    "                                   'voorkant','mur','parking','pont', 'chemin', 'parc','plein','strand','tuin','jardin','fit-o-meter', 'hoek',\n",
    "                                   'haute tension', 'thv','t.h.v', 'Loods', 'Militar','Dépôt','depot','economaat','park','Schelde','terras','Bois','port',\n",
    "                                   'cour','pierre','bus', 'terrain'], \n",
    "                      'inside access': ['Accueil', 'Acceuil','accueuil','inkom','ing','onth','recep','récep','balie','comptoir','entr',\n",
    "                                    'garde','keet', 'secrétar', 'quichets','secretar', 'caisse', 'sorti', 'portier', 'lobby', 'lobie', 'foyer', 'gardien',\n",
    "                                    'info','securi', 'chantier', 'koer 2','klantendienst','wacht','kassa', 'self', 'TIKKLOK', 'pointeuse','poort','accès', \n",
    "                                    'préau', 'rez', 'réz','glvl','Gelijkvloers','rdc','r.d.c', '0','geschoss', 'geijkvloers', 'einpfang'],\n",
    "                      'inside less accessible': ['sous-sol','sous sol','1er', '1e', '°', 'etage', 'ètage','étage','étg' ,'3de', '2de', '4de', '2e','1ste', \n",
    "                                    'verd', 'niv', '18th', '5i','5e', 'quai', 'spoor', 'perron','club', 'dojo', 'petan','tennis','voetbal','fiets', 'sport', \n",
    "                                    'athlét', 'athlet', 'zwem', 'football', 'hockey','jeux', 'fitness','Atletiek','speel','speler','foot','ski','padel', 'récré', 'redder',\n",
    "                                 'sauveteurs','natation','pattinoire', 'sal','ascenseur','ASCENCEUR', 'Escalier' ,'local','lokaal', 'caf', 'bure', 'hal', 'gang', 'buvette', \n",
    "                                 'vestia','zaal','couloir','binnen','réfectoire',\n",
    "                                    'keuken', 'cuisine','biblio','bar','infirmerie', 'ruimte', 'secret','maga','ateli', 'garage','cantine', 'rentré',\n",
    "                                    'kantine', 'sacristie', 'kantoor', 'production', 'kleedkamer', 'lift', 'Intérieur','bât', 'bat', 'bouw', 'house',\n",
    "                                    'shop', 'station', 'piscine', 'werkplaats', 'vestaire', 'restaurant','tandarts','praktijk', 'kabinet', 'refter',\n",
    "                                    'winkel', 'toilet', 'room','maison', 'sanitair', 'office', 'lab','kamer','deur', 'school', 'facult', \n",
    "                                    'gym', 'accomodat','ecole', 'école', 'kerk', 'bloc', 'blok', 'Collège','eglise','trap','aula','huis',\n",
    "                                    'restauration','catering','wc','hangar', 'kazerne','kabine', 'casernes', 'terminal', 'kai','fabriek','flats',\n",
    "                                    'pharma','complexe', 'hulppost', 'onder','afspraak', 'bellen', 'facility', 'loge', 'pavillon', 'toonbank',\n",
    "                                    'Fours', 'Enseignement', 'JBC', 'Refectoire', 'imprimante','Kast','Uitpunt','auditoraat','administratif','Recycl',\n",
    "                                    'photocop', 'usine','chateau','class','afd','galeri', 'cc ', 'kinderboerderij', 'babygroup', 'Geriaterie', 'cabinet',\n",
    "                                    'hébergement','bassin','Ortho','neuro','SP Dienst','panoptique', 'mobi','nomade','dispatch','volant','portable', \n",
    "                                    'Brandweerwagen', 'wagen','pas de véhicule fixe', 'non fixé','pas véhicule fixe',\n",
    "                                 'leen', 'bouillet', 'fond réfectaire', 'operateur four', 'kinderopvang MIKI', 'espace client', 'ouvriers', \n",
    "                                 'schuin over medische dienst', 'all-ranks', 'ancienne boulangerie']\n"
   ]
  }
 ],
 "metadata": {
  "kernelspec": {
   "display_name": "Python 3",
   "language": "python",
   "name": "python3"
  },
  "language_info": {
   "codemirror_mode": {
    "name": "ipython",
    "version": 3
   },
   "file_extension": ".py",
   "mimetype": "text/x-python",
   "name": "python",
   "nbconvert_exporter": "python",
   "pygments_lexer": "ipython3",
   "version": "3.12.3"
  }
 },
 "nbformat": 4,
 "nbformat_minor": 2
}
