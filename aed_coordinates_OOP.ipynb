{
 "cells": [
  {
   "cell_type": "code",
   "execution_count": 1,
   "metadata": {},
   "outputs": [],
   "source": [
    "import pandas as pd\n",
    "import requests\n",
    "import time\n",
    "import re\n",
    "from geopy.geocoders import Nominatim"
   ]
  },
  {
   "cell_type": "code",
   "execution_count": 2,
   "metadata": {},
   "outputs": [],
   "source": [
    "df_aed = pd.read_parquet('aed_locations.parquet.gzip')\n",
    "geolocator = Nominatim(user_agent='Isabel')"
   ]
  },
  {
   "cell_type": "code",
   "execution_count": 3,
   "metadata": {},
   "outputs": [],
   "source": [
    "class AEDcoordinates_cleaner:\n",
    "    def __init__(self, dataset):\n",
    "        self.dataset = dataset.copy()\n",
    "        self.dataset['lat'] = None\n",
    "        self.dataset['lon'] = None\n",
    "        self.abbrev = False\n",
    "        self.addresses_made = False\n",
    "        self.cleaning_numbers = False\n",
    "\n",
    "    def cleaning_house_numbers(self):\n",
    "        self.dataset = self.dataset.dropna(subset =['number']).reset_index(drop= True)\n",
    "        self.dataset = self.dataset.dropna(subset =['address']).reset_index(drop= True)\n",
    "        self.dataset = self.dataset.dropna(subset =['postal_code']).reset_index(drop= True)\n",
    "        self.cleaning_numbers = True\n",
    "        print('cleaned data')\n",
    "\n",
    "    def cleaning_abbreviations(self):\n",
    "        self.dataset['address'] = self.dataset['address'].astype(str)  # Ensure all entries are strings\n",
    "        replacements = {\n",
    "        r'Ch\\.': 'Chaussée',\n",
    "        r'Blvd\\.': 'Boulevard',\n",
    "        'Bld': 'Boulevard',\n",
    "        'Bvd': 'Boulevard',\n",
    "        'sestweg': 'sesteenweg',\n",
    "        r'Av\\.' : 'Avenue'\n",
    "        }\n",
    "        self.dataset['address'] = self.dataset['address'].replace(replacements, regex=True)\n",
    "        self.abbrev = True\n",
    "        print('cleaned abbreviations')\n",
    "\n",
    "    def make_address(self):\n",
    "        self.dataset['full_address'] = ''\n",
    "        for number in range(len(self.dataset)):\n",
    "            address = ''\n",
    "            if not pd.isna(self.dataset['address'][number]):\n",
    "                address = str(self.dataset['address'][number])\n",
    "                if not pd.isna(self.dataset['number'][number]):\n",
    "                    address = address+\" \"+str(int(self.dataset['number'][number]))\n",
    "                if not pd.isna(self.dataset['postal_code'][number]):\n",
    "                    address = address +\" ,\"+str(int(self.dataset['postal_code'][number]))       \n",
    "                if not pd.isna(self.dataset['municipality'][number]):\n",
    "                    address = address +\" ,\"+str(self.dataset['municipality'][number])\n",
    "            self.dataset.loc[number,'full_address'] = address\n",
    "        self.addresses_made = True\n",
    "        print('made addresses')\n",
    "    \n",
    "    def is_initialized(self):\n",
    "        if self.abbrev == False:\n",
    "            self.cleaning_abbreviations()\n",
    "        if self.addresses_made == False:\n",
    "            self.make_address()\n",
    "        if self.cleaning_numbers == False:\n",
    "            self.cleaning_house_numbers()\n",
    "        print('is initialized')\n",
    "\n",
    "    def use_Nominatim_geocoder(self):\n",
    "        self.is_initialized()\n",
    "        self.not_found = 0\n",
    "        for number in range(len(self.dataset)):\n",
    "            structured_query = {}\n",
    "            structured_query['postalcode']= int(self.dataset.loc[number,'postal_code'])         \n",
    "            structured_query['country']= 'Belgium'\n",
    "            structured_query['street'] = f\"{int(self.dataset.loc[number,'number'])} {self.dataset.loc[number,'address']}\"\n",
    "            location=geolocator.geocode(structured_query, timeout=15)\n",
    "            \n",
    "            if location is not None:\n",
    "                self.dataset.loc[number,'lon'] =location.longitude\n",
    "                self.dataset.loc[number,'lat'] =location.latitude\n",
    "            else:\n",
    "                self.not_found +=1\n",
    "            if (number % 50 ==0):\n",
    "                time.sleep(5)\n",
    "\n",
    "    def use_openroute_geocoder(self, limit):\n",
    "        self.is_initialized()\n",
    "        self.counter = 1\n",
    "        for row in range(len(self.dataset)):\n",
    "            if self.counter <= limit:\n",
    "                if pd.isna(self.dataset.loc[row, 'lat']): \n",
    "                    url_start = 'https://api.openrouteservice.org/geocode/search?'\n",
    "                    key = 'api_key=5b3ce3597851110001cf6248d11d604663d24d9395ef7a513daed710&text='\n",
    "                    url_end = '&boundary.country=BE'\n",
    "                    address = self.dataset.loc[row, 'full_address']\n",
    "                    new_address = address.replace(' ', '%')\n",
    "                    url = url_start+ key+ new_address+url_end\n",
    "                    response = requests.get(url)\n",
    "                    if response.status_code == 200:\n",
    "                        if (self.counter % 50 ==0):\n",
    "                            time.sleep(10)\n",
    "                        self.counter+= 1\n",
    "                        data = response.json()\n",
    "                        #get the coordinates\n",
    "                        if not data['features'] == []:\n",
    "                            coordinates = data['features'][0]['geometry']['coordinates']\n",
    "                            #save longitude and latitude in the dataframe\n",
    "                            self.dataset.loc[row,'lon'] =coordinates[0]\n",
    "                            self.dataset.loc[row,'lat'] =coordinates[1]\n",
    "            else:\n",
    "                print('limit reached')\n",
    "                break\n"
   ]
  },
  {
   "cell_type": "code",
   "execution_count": 4,
   "metadata": {},
   "outputs": [],
   "source": [
    "#split the dataset in smaller portions to ensure the geocoders run smoothly\n",
    "df_aed_1 = df_aed[:3000]\n",
    "df_aed_2 = df_aed[3001:6000].reset_index(drop=True)\n",
    "df_aed_3 = df_aed[6001:9000].reset_index(drop=True)\n",
    "df_aed_4 = df_aed[9001:12000].reset_index(drop=True)\n",
    "df_aed_5 = df_aed[12001:].reset_index(drop=True)"
   ]
  },
  {
   "cell_type": "code",
   "execution_count": 5,
   "metadata": {},
   "outputs": [],
   "source": [
    "aed_coordinates1 = AEDcoordinates_cleaner(df_aed_1)\n",
    "\n",
    "aed_coordinates2 = AEDcoordinates_cleaner(df_aed_2)\n",
    "\n",
    "aed_coordinates3 = AEDcoordinates_cleaner(df_aed_3)\n",
    "\n",
    "aed_coordinates4 = AEDcoordinates_cleaner(df_aed_4)\n",
    "\n",
    "aed_coordinates5 = AEDcoordinates_cleaner(df_aed_5)"
   ]
  },
  {
   "cell_type": "code",
   "execution_count": 6,
   "metadata": {},
   "outputs": [
    {
     "name": "stdout",
     "output_type": "stream",
     "text": [
      "cleaned abbreviations\n",
      "made addresses\n",
      "cleaned data\n",
      "is initialized\n",
      "1 done\n",
      "330\n",
      "cleaned abbreviations\n",
      "made addresses\n",
      "cleaned data\n",
      "is initialized\n",
      "2 done\n",
      "321\n"
     ]
    }
   ],
   "source": [
    "aed_coordinates1.use_Nominatim_geocoder()\n",
    "print('1 done')\n",
    "print(aed_coordinates1.not_found)\n",
    "aed_coordinates2.use_Nominatim_geocoder()\n",
    "print('2 done')\n",
    "print(aed_coordinates2.not_found)"
   ]
  },
  {
   "cell_type": "code",
   "execution_count": 7,
   "metadata": {},
   "outputs": [
    {
     "name": "stdout",
     "output_type": "stream",
     "text": [
      "cleaned abbreviations\n",
      "made addresses\n",
      "cleaned data\n",
      "is initialized\n",
      "3 done\n",
      "395\n",
      "cleaned abbreviations\n",
      "made addresses\n",
      "cleaned data\n",
      "is initialized\n",
      "4 done\n",
      "274\n",
      "cleaned abbreviations\n",
      "made addresses\n",
      "cleaned data\n",
      "is initialized\n",
      "5 done\n",
      "238\n"
     ]
    }
   ],
   "source": [
    "aed_coordinates3.use_Nominatim_geocoder()\n",
    "print('3 done')\n",
    "print(aed_coordinates3.not_found)\n",
    "aed_coordinates4.use_Nominatim_geocoder()\n",
    "print('4 done')\n",
    "print(aed_coordinates4.not_found)\n",
    "aed_coordinates5.use_Nominatim_geocoder()\n",
    "print('5 done')\n",
    "print(aed_coordinates5.not_found)"
   ]
  },
  {
   "cell_type": "code",
   "execution_count": 8,
   "metadata": {},
   "outputs": [
    {
     "data": {
      "text/plain": [
       "1558"
      ]
     },
     "execution_count": 8,
     "metadata": {},
     "output_type": "execute_result"
    }
   ],
   "source": [
    "aed_coordinates1.not_found+aed_coordinates2.not_found+aed_coordinates3.not_found+aed_coordinates4.not_found+aed_coordinates5.not_found"
   ]
  },
  {
   "cell_type": "code",
   "execution_count": 9,
   "metadata": {},
   "outputs": [
    {
     "name": "stdout",
     "output_type": "stream",
     "text": [
      "is initialized\n"
     ]
    }
   ],
   "source": [
    "limit = 5000 #maximum 5000\n",
    "aed_coordinates1.use_openroute_geocoder(limit)"
   ]
  },
  {
   "cell_type": "code",
   "execution_count": 10,
   "metadata": {},
   "outputs": [
    {
     "name": "stdout",
     "output_type": "stream",
     "text": [
      "is initialized\n",
      "2 done\n",
      "is initialized\n",
      "3 done\n",
      "is initialized\n",
      "4 done\n",
      "is initialized\n"
     ]
    }
   ],
   "source": [
    "limit = limit -aed_coordinates1.not_found\n",
    "if limit > 0:\n",
    "    aed_coordinates2.use_openroute_geocoder(limit)\n",
    "    print('2 done')\n",
    "limit = limit -aed_coordinates2.not_found\n",
    "if limit > 0:\n",
    "    aed_coordinates3.use_openroute_geocoder(limit)\n",
    "    print('3 done')\n",
    "limit = limit -aed_coordinates3.not_found\n",
    "if limit > 0:\n",
    "    aed_coordinates4.use_openroute_geocoder(limit)\n",
    "    print('4 done')\n",
    "limit = limit -aed_coordinates4.not_found\n",
    "if limit > 0:\n",
    "    aed_coordinates5.use_openroute_geocoder(limit)"
   ]
  },
  {
   "cell_type": "code",
   "execution_count": 11,
   "metadata": {},
   "outputs": [],
   "source": [
    "df_aed_w_coords = pd.DataFrame()\n",
    "aed_coordinates_list = [aed_coordinates1.dataset, aed_coordinates2.dataset, aed_coordinates3.dataset, aed_coordinates4.dataset, aed_coordinates5.dataset]\n",
    "df_aed_w_coords = pd.concat(aed_coordinates_list, ignore_index=True)\n",
    "filepath = 'all_aed_coordinates.csv'\n",
    "df_aed_w_coords.to_csv(filepath, index=False)"
   ]
  },
  {
   "cell_type": "code",
   "execution_count": 12,
   "metadata": {},
   "outputs": [],
   "source": [
    "filepath = 'all_aed_coordinates.csv'\n",
    "\n",
    "df_aed = pd.read_csv(filepath)"
   ]
  },
  {
   "cell_type": "code",
   "execution_count": 13,
   "metadata": {},
   "outputs": [],
   "source": [
    "df_aed_missing = df_aed.loc[df_aed['lat'].isna()]"
   ]
  },
  {
   "cell_type": "code",
   "execution_count": 15,
   "metadata": {},
   "outputs": [
    {
     "data": {
      "text/plain": [
       "964"
      ]
     },
     "execution_count": 15,
     "metadata": {},
     "output_type": "execute_result"
    }
   ],
   "source": [
    "len(df_aed_missing)"
   ]
  },
  {
   "cell_type": "code",
   "execution_count": 16,
   "metadata": {},
   "outputs": [
    {
     "data": {
      "text/plain": [
       "address\n",
       "Station Gare du Midi        9\n",
       "Avenure de Tervueren        8\n",
       "Boulevard Simon Bolivas     6\n",
       "Boulevard Simon Bolivas     4\n",
       "Bouleard Simon Bolivar      3\n",
       "                           ..\n",
       "Drève de Prieuré            1\n",
       "Rue de la Cible             1\n",
       "Rue de la Perle ar)         1\n",
       "Chée de Vilvorde            1\n",
       "Boulevard Simon bolivas     1\n",
       "Name: count, Length: 70, dtype: int64"
      ]
     },
     "execution_count": 16,
     "metadata": {},
     "output_type": "execute_result"
    }
   ],
   "source": [
    "df_aed_missing = df_aed.loc[df_aed['lat'].isna()]\n",
    "df_aed_missing_nonumber = df_aed_missing.dropna(subset=['number']).reset_index()\n",
    "df_aed_missing_nonumber.loc[df_aed_missing_nonumber['municipality']=='Bruxelles']['address'].value_counts()"
   ]
  },
  {
   "cell_type": "code",
   "execution_count": 20,
   "metadata": {},
   "outputs": [
    {
     "data": {
      "text/plain": [
       "address\n",
       "Malesteenweg            1\n",
       "Kasernevest             1\n",
       "Buiten de smedenvest    1\n",
       "Name: count, dtype: int64"
      ]
     },
     "execution_count": 20,
     "metadata": {},
     "output_type": "execute_result"
    }
   ],
   "source": [
    "df_aed_missing_nonumber.loc[df_aed_missing_nonumber['municipality']=='Brugge']['address'].value_counts()"
   ]
  }
 ],
 "metadata": {
  "kernelspec": {
   "display_name": "Python 3",
   "language": "python",
   "name": "python3"
  },
  "language_info": {
   "codemirror_mode": {
    "name": "ipython",
    "version": 3
   },
   "file_extension": ".py",
   "mimetype": "text/x-python",
   "name": "python",
   "nbconvert_exporter": "python",
   "pygments_lexer": "ipython3",
   "version": "3.12.3"
  }
 },
 "nbformat": 4,
 "nbformat_minor": 2
}
