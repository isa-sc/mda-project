{
 "cells": [
  {
   "cell_type": "raw",
   "id": "c35761fb",
   "metadata": {},
   "source": [
    "importing modules"
   ]
  },
  {
   "cell_type": "code",
   "execution_count": 1,
   "id": "555db22b",
   "metadata": {
    "scrolled": true
   },
   "outputs": [],
   "source": [
    "import pandas as pd"
   ]
  },
  {
   "cell_type": "code",
   "execution_count": 9,
   "id": "65c8b4de",
   "metadata": {},
   "outputs": [],
   "source": [
    "df_aed = pd.read_parquet('aed_locations.parquet.gzip')\n",
    "df_ambloc = pd.read_parquet('ambulance_locations.parquet.gzip')\n",
    "df_cad9= pd.read_parquet('cad9.parquet.gzip')\n",
    "df_intbxl = pd.read_parquet('interventions_bxl.parquet.gzip')\n",
    "df_intbxl2 = pd.read_parquet('interventions_bxl2.parquet.gzip')\n",
    "df_int1 = pd.read_parquet('interventions1.parquet.gzip')\n",
    "df_int2 = pd.read_parquet('interventions2.parquet.gzip')\n",
    "df_int3 = pd.read_parquet('interventions3.parquet.gzip')\n",
    "df_mug = pd.read_parquet('mug_locations.parquet.gzip')\n",
    "df_pit = pd.read_parquet('pit_locations.parquet.gzip')"
   ]
  },
  {
   "cell_type": "code",
   "execution_count": 15,
   "id": "6e44747f",
   "metadata": {
    "scrolled": true
   },
   "outputs": [
    {
     "data": {
      "text/html": [
       "<div>\n",
       "<style scoped>\n",
       "    .dataframe tbody tr th:only-of-type {\n",
       "        vertical-align: middle;\n",
       "    }\n",
       "\n",
       "    .dataframe tbody tr th {\n",
       "        vertical-align: top;\n",
       "    }\n",
       "\n",
       "    .dataframe thead th {\n",
       "        text-align: right;\n",
       "    }\n",
       "</style>\n",
       "<table border=\"1\" class=\"dataframe\">\n",
       "  <thead>\n",
       "    <tr style=\"text-align: right;\">\n",
       "      <th></th>\n",
       "      <th>unit</th>\n",
       "      <th>campus</th>\n",
       "      <th>province</th>\n",
       "      <th>region</th>\n",
       "      <th>unit_id</th>\n",
       "      <th>ambucode</th>\n",
       "      <th>ambusitecode</th>\n",
       "      <th>link</th>\n",
       "    </tr>\n",
       "  </thead>\n",
       "  <tbody>\n",
       "    <tr>\n",
       "      <th>0</th>\n",
       "      <td>100001: PIT Rumst, AZ Rivierland</td>\n",
       "      <td>Ziekenhuis/Hôpital: 104 - AZ RIVIERENLAND --- ...</td>\n",
       "      <td>Antwerpen/Anvers</td>\n",
       "      <td>Vlaanderen/Flandre</td>\n",
       "      <td>PARUMS01A</td>\n",
       "      <td>191</td>\n",
       "      <td>19101</td>\n",
       "      <td>None</td>\n",
       "    </tr>\n",
       "    <tr>\n",
       "      <th>1</th>\n",
       "      <td>102001: PIT Deinze, St Vincentius</td>\n",
       "      <td>Ziekenhuis/Hôpital: 134 - AZ SINT-VINCENTIUS -...</td>\n",
       "      <td>Oost-Vlaanderen/Flandre orientale</td>\n",
       "      <td>Vlaanderen/Flandre</td>\n",
       "      <td>PODEIN01A</td>\n",
       "      <td>413</td>\n",
       "      <td>41301</td>\n",
       "      <td>None</td>\n",
       "    </tr>\n",
       "    <tr>\n",
       "      <th>2</th>\n",
       "      <td>102101: PIT Stuivenberg</td>\n",
       "      <td>Ziekenhuis/Hôpital: 009 - ZIEKENHUISNETWERK AN...</td>\n",
       "      <td>Antwerpen/Anvers</td>\n",
       "      <td>Vlaanderen/Flandre</td>\n",
       "      <td>PAANTW01A</td>\n",
       "      <td>117</td>\n",
       "      <td>11704</td>\n",
       "      <td>None</td>\n",
       "    </tr>\n",
       "    <tr>\n",
       "      <th>3</th>\n",
       "      <td>110001: PIT Lier, Heilig Hart</td>\n",
       "      <td>Ziekenhuis/Hôpital: 097 - HEILIG HART ZIEKENHU...</td>\n",
       "      <td>Antwerpen/Anvers</td>\n",
       "      <td>Vlaanderen/Flandre</td>\n",
       "      <td>PALIER01A</td>\n",
       "      <td>171</td>\n",
       "      <td>17101</td>\n",
       "      <td>None</td>\n",
       "    </tr>\n",
       "    <tr>\n",
       "      <th>4</th>\n",
       "      <td>113001: PIT HEILIG HART ZIEKENHUIS</td>\n",
       "      <td>Ziekenhuis/Hôpital: 102 - HEILIG HART ZIEKENHU...</td>\n",
       "      <td>Antwerpen/Anvers</td>\n",
       "      <td>Vlaanderen/Flandre</td>\n",
       "      <td>PAMOL_01A</td>\n",
       "      <td>190</td>\n",
       "      <td>19001</td>\n",
       "      <td>None</td>\n",
       "    </tr>\n",
       "  </tbody>\n",
       "</table>\n",
       "</div>"
      ],
      "text/plain": [
       "                                 unit  \\\n",
       "0    100001: PIT Rumst, AZ Rivierland   \n",
       "1  102001: PIT Deinze, St Vincentius    \n",
       "2             102101: PIT Stuivenberg   \n",
       "3       110001: PIT Lier, Heilig Hart   \n",
       "4  113001: PIT HEILIG HART ZIEKENHUIS   \n",
       "\n",
       "                                              campus  \\\n",
       "0  Ziekenhuis/Hôpital: 104 - AZ RIVIERENLAND --- ...   \n",
       "1  Ziekenhuis/Hôpital: 134 - AZ SINT-VINCENTIUS -...   \n",
       "2  Ziekenhuis/Hôpital: 009 - ZIEKENHUISNETWERK AN...   \n",
       "3  Ziekenhuis/Hôpital: 097 - HEILIG HART ZIEKENHU...   \n",
       "4  Ziekenhuis/Hôpital: 102 - HEILIG HART ZIEKENHU...   \n",
       "\n",
       "                            province              region    unit_id  ambucode  \\\n",
       "0                   Antwerpen/Anvers  Vlaanderen/Flandre  PARUMS01A       191   \n",
       "1  Oost-Vlaanderen/Flandre orientale  Vlaanderen/Flandre  PODEIN01A       413   \n",
       "2                   Antwerpen/Anvers  Vlaanderen/Flandre  PAANTW01A       117   \n",
       "3                   Antwerpen/Anvers  Vlaanderen/Flandre  PALIER01A       171   \n",
       "4                   Antwerpen/Anvers  Vlaanderen/Flandre  PAMOL_01A       190   \n",
       "\n",
       "   ambusitecode  link  \n",
       "0         19101  None  \n",
       "1         41301  None  \n",
       "2         11704  None  \n",
       "3         17101  None  \n",
       "4         19001  None  "
      ]
     },
     "execution_count": 15,
     "metadata": {},
     "output_type": "execute_result"
    }
   ],
   "source": [
    "df_pit.head()"
   ]
  },
  {
   "cell_type": "code",
   "execution_count": null,
   "id": "a5e27520",
   "metadata": {},
   "outputs": [],
   "source": []
  }
 ],
 "metadata": {
  "kernelspec": {
   "display_name": "Python 3 (ipykernel)",
   "language": "python",
   "name": "python3"
  },
  "language_info": {
   "codemirror_mode": {
    "name": "ipython",
    "version": 3
   },
   "file_extension": ".py",
   "mimetype": "text/x-python",
   "name": "python",
   "nbconvert_exporter": "python",
   "pygments_lexer": "ipython3",
   "version": "3.11.4"
  }
 },
 "nbformat": 4,
 "nbformat_minor": 5
}
